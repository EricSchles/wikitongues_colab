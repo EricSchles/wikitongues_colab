{
 "cells": [
  {
   "cell_type": "code",
   "execution_count": 45,
   "metadata": {},
   "outputs": [],
   "source": [
    "import pandas as pd\n",
    "import matplotlib.pyplot as plt\n",
    "import statistics\n",
    "import matplotlib\n",
    "from scipy import stats\n",
    "import seaborn as sns\n",
    "%matplotlib inline\n",
    "matplotlib.rcParams['figure.figsize'] = (12,12)"
   ]
  },
  {
   "cell_type": "markdown",
   "metadata": {},
   "source": [
    "# Hypotheses\n",
    "\n",
    "* In a given country the majority of speakers will speak the majority language\n",
    "* Minority languages are similarly distributed from country to country\n",
    "* More populated countries have more languages\n",
    "* More densely populated countries have more languages\n",
    "* Large countries (in terms of geography) have more languages\n",
    "* Countries with deaf populations also have minority languages (contingent on more data found)\n",
    "* The number of minority languages is impacted by the digital access of the country normalized against population size and density\n",
    "\n",
    "## Resources\n",
    "\n",
    "http://chartsbin.com/view/qnr \n",
    "\n",
    "https://www.itu.int/newsroom/press_releases/2003/30.html\n",
    "\n",
    "## Related Questions\n",
    "\n",
    "* What is the probability of finding a speaker of a given language in a given country? (result is a correlation matrix)\n",
    "* What is the probability that if a given country has a specific language, it will likely have another given langauge? (Example - if the people speak english, is there a subpopulation that speaks Irish?)\n"
   ]
  },
  {
   "cell_type": "code",
   "execution_count": null,
   "metadata": {},
   "outputs": [],
   "source": [
    "df = pd.read_csv(\"Wikitongues-Nations-Main View.csv\")"
   ]
  },
  {
   "cell_type": "code",
   "execution_count": 4,
   "metadata": {},
   "outputs": [
    {
     "data": {
      "text/html": [
       "<div>\n",
       "<style>\n",
       "    .dataframe thead tr:only-child th {\n",
       "        text-align: right;\n",
       "    }\n",
       "\n",
       "    .dataframe thead th {\n",
       "        text-align: left;\n",
       "    }\n",
       "\n",
       "    .dataframe tbody tr th {\n",
       "        vertical-align: top;\n",
       "    }\n",
       "</style>\n",
       "<table border=\"1\" class=\"dataframe\">\n",
       "  <thead>\n",
       "    <tr style=\"text-align: right;\">\n",
       "      <th></th>\n",
       "      <th>Polities</th>\n",
       "      <th>Volunteers</th>\n",
       "      <th>Languages</th>\n",
       "      <th>Language Count</th>\n",
       "      <th>Principal Languages</th>\n",
       "      <th>Immigrant Languages</th>\n",
       "      <th>Duplicate Immigrant Languages</th>\n",
       "      <th>Geographic Note</th>\n",
       "      <th>Nationally Official Languages</th>\n",
       "      <th>Nationally Official Names</th>\n",
       "      <th>...</th>\n",
       "      <th>Language Count Details</th>\n",
       "      <th>Videos Recorded</th>\n",
       "      <th>Corporate Sponsorship</th>\n",
       "      <th>Content resources</th>\n",
       "      <th>Poly Early Access</th>\n",
       "      <th>ISO 3166</th>\n",
       "      <th>Latitude</th>\n",
       "      <th>Longitude</th>\n",
       "      <th>Coordinates</th>\n",
       "      <th>Geocode</th>\n",
       "    </tr>\n",
       "  </thead>\n",
       "  <tbody>\n",
       "    <tr>\n",
       "      <th>0</th>\n",
       "      <td>'''[[Abruzzo]]</td>\n",
       "      <td>NaN</td>\n",
       "      <td>NaN</td>\n",
       "      <td>0</td>\n",
       "      <td>NaN</td>\n",
       "      <td>NaN</td>\n",
       "      <td>NaN</td>\n",
       "      <td>NaN</td>\n",
       "      <td>NaN</td>\n",
       "      <td>NaN</td>\n",
       "      <td>...</td>\n",
       "      <td>NaN</td>\n",
       "      <td>NaN</td>\n",
       "      <td>NaN</td>\n",
       "      <td>NaN</td>\n",
       "      <td>NaN</td>\n",
       "      <td>NaN</td>\n",
       "      <td>NaN</td>\n",
       "      <td>NaN</td>\n",
       "      <td>No data</td>\n",
       "      <td>NaN</td>\n",
       "    </tr>\n",
       "    <tr>\n",
       "      <th>1</th>\n",
       "      <td>'''[[Aosta Valley]]</td>\n",
       "      <td>NaN</td>\n",
       "      <td>NaN</td>\n",
       "      <td>0</td>\n",
       "      <td>NaN</td>\n",
       "      <td>NaN</td>\n",
       "      <td>NaN</td>\n",
       "      <td>NaN</td>\n",
       "      <td>NaN</td>\n",
       "      <td>NaN</td>\n",
       "      <td>...</td>\n",
       "      <td>NaN</td>\n",
       "      <td>NaN</td>\n",
       "      <td>NaN</td>\n",
       "      <td>NaN</td>\n",
       "      <td>NaN</td>\n",
       "      <td>NaN</td>\n",
       "      <td>NaN</td>\n",
       "      <td>NaN</td>\n",
       "      <td>No data</td>\n",
       "      <td>NaN</td>\n",
       "    </tr>\n",
       "    <tr>\n",
       "      <th>2</th>\n",
       "      <td>'''[[Apulia]]</td>\n",
       "      <td>NaN</td>\n",
       "      <td>NaN</td>\n",
       "      <td>0</td>\n",
       "      <td>NaN</td>\n",
       "      <td>NaN</td>\n",
       "      <td>NaN</td>\n",
       "      <td>NaN</td>\n",
       "      <td>NaN</td>\n",
       "      <td>NaN</td>\n",
       "      <td>...</td>\n",
       "      <td>NaN</td>\n",
       "      <td>NaN</td>\n",
       "      <td>NaN</td>\n",
       "      <td>NaN</td>\n",
       "      <td>NaN</td>\n",
       "      <td>NaN</td>\n",
       "      <td>NaN</td>\n",
       "      <td>NaN</td>\n",
       "      <td>No data</td>\n",
       "      <td>NaN</td>\n",
       "    </tr>\n",
       "    <tr>\n",
       "      <th>3</th>\n",
       "      <td>'''[[Basilicata]]</td>\n",
       "      <td>NaN</td>\n",
       "      <td>NaN</td>\n",
       "      <td>0</td>\n",
       "      <td>NaN</td>\n",
       "      <td>NaN</td>\n",
       "      <td>NaN</td>\n",
       "      <td>NaN</td>\n",
       "      <td>NaN</td>\n",
       "      <td>NaN</td>\n",
       "      <td>...</td>\n",
       "      <td>NaN</td>\n",
       "      <td>NaN</td>\n",
       "      <td>NaN</td>\n",
       "      <td>NaN</td>\n",
       "      <td>NaN</td>\n",
       "      <td>NaN</td>\n",
       "      <td>NaN</td>\n",
       "      <td>NaN</td>\n",
       "      <td>No data</td>\n",
       "      <td>NaN</td>\n",
       "    </tr>\n",
       "    <tr>\n",
       "      <th>4</th>\n",
       "      <td>'''[[Calabria]]</td>\n",
       "      <td>NaN</td>\n",
       "      <td>NaN</td>\n",
       "      <td>0</td>\n",
       "      <td>NaN</td>\n",
       "      <td>NaN</td>\n",
       "      <td>NaN</td>\n",
       "      <td>NaN</td>\n",
       "      <td>NaN</td>\n",
       "      <td>NaN</td>\n",
       "      <td>...</td>\n",
       "      <td>NaN</td>\n",
       "      <td>NaN</td>\n",
       "      <td>NaN</td>\n",
       "      <td>NaN</td>\n",
       "      <td>NaN</td>\n",
       "      <td>NaN</td>\n",
       "      <td>NaN</td>\n",
       "      <td>NaN</td>\n",
       "      <td>No data</td>\n",
       "      <td>NaN</td>\n",
       "    </tr>\n",
       "  </tbody>\n",
       "</table>\n",
       "<p>5 rows × 28 columns</p>\n",
       "</div>"
      ],
      "text/plain": [
       "              Polities Volunteers Languages  Language Count  \\\n",
       "0       '''[[Abruzzo]]        NaN       NaN               0   \n",
       "1  '''[[Aosta Valley]]        NaN       NaN               0   \n",
       "2        '''[[Apulia]]        NaN       NaN               0   \n",
       "3    '''[[Basilicata]]        NaN       NaN               0   \n",
       "4      '''[[Calabria]]        NaN       NaN               0   \n",
       "\n",
       "  Principal Languages Immigrant Languages Duplicate Immigrant Languages  \\\n",
       "0                 NaN                 NaN                           NaN   \n",
       "1                 NaN                 NaN                           NaN   \n",
       "2                 NaN                 NaN                           NaN   \n",
       "3                 NaN                 NaN                           NaN   \n",
       "4                 NaN                 NaN                           NaN   \n",
       "\n",
       "  Geographic Note Nationally Official Languages Nationally Official Names  \\\n",
       "0             NaN                           NaN                       NaN   \n",
       "1             NaN                           NaN                       NaN   \n",
       "2             NaN                           NaN                       NaN   \n",
       "3             NaN                           NaN                       NaN   \n",
       "4             NaN                           NaN                       NaN   \n",
       "\n",
       "    ...   Language Count Details Videos Recorded Corporate Sponsorship  \\\n",
       "0   ...                      NaN             NaN                   NaN   \n",
       "1   ...                      NaN             NaN                   NaN   \n",
       "2   ...                      NaN             NaN                   NaN   \n",
       "3   ...                      NaN             NaN                   NaN   \n",
       "4   ...                      NaN             NaN                   NaN   \n",
       "\n",
       "  Content resources Poly Early Access ISO 3166  Latitude Longitude  \\\n",
       "0               NaN               NaN      NaN       NaN       NaN   \n",
       "1               NaN               NaN      NaN       NaN       NaN   \n",
       "2               NaN               NaN      NaN       NaN       NaN   \n",
       "3               NaN               NaN      NaN       NaN       NaN   \n",
       "4               NaN               NaN      NaN       NaN       NaN   \n",
       "\n",
       "  Coordinates Geocode  \n",
       "0     No data     NaN  \n",
       "1     No data     NaN  \n",
       "2     No data     NaN  \n",
       "3     No data     NaN  \n",
       "4     No data     NaN  \n",
       "\n",
       "[5 rows x 28 columns]"
      ]
     },
     "execution_count": 4,
     "metadata": {},
     "output_type": "execute_result"
    }
   ],
   "source": [
    "df.head()"
   ]
  },
  {
   "cell_type": "code",
   "execution_count": 5,
   "metadata": {},
   "outputs": [
    {
     "data": {
      "text/plain": [
       "Index(['Polities', 'Volunteers', 'Languages', 'Language Count',\n",
       "       'Principal Languages', 'Immigrant Languages',\n",
       "       'Duplicate Immigrant Languages', 'Geographic Note',\n",
       "       'Nationally Official Languages', 'Nationally Official Names',\n",
       "       'Nationally Official Data', 'Regionally Official Languages',\n",
       "       'Regionally Official Names', 'Regionally Official Data',\n",
       "       'Recognized Languages', 'Territories', 'Territory Count', 'Continent',\n",
       "       'Language Count Details', 'Videos Recorded', 'Corporate Sponsorship',\n",
       "       'Content resources', 'Poly Early Access', 'ISO 3166', 'Latitude',\n",
       "       'Longitude', 'Coordinates', 'Geocode'],\n",
       "      dtype='object')"
      ]
     },
     "execution_count": 5,
     "metadata": {},
     "output_type": "execute_result"
    }
   ],
   "source": [
    "df.columns"
   ]
  },
  {
   "cell_type": "code",
   "execution_count": 8,
   "metadata": {},
   "outputs": [
    {
     "data": {
      "text/plain": [
       "202"
      ]
     },
     "execution_count": 8,
     "metadata": {},
     "output_type": "execute_result"
    }
   ],
   "source": [
    "len([elem for elem in set(df[\"Languages\"]) if pd.notnull(elem)])"
   ]
  },
  {
   "cell_type": "code",
   "execution_count": 10,
   "metadata": {},
   "outputs": [
    {
     "data": {
      "text/plain": [
       "7624"
      ]
     },
     "execution_count": 10,
     "metadata": {},
     "output_type": "execute_result"
    }
   ],
   "source": [
    "sum([len(elem.split(\",\")) for elem in set(df[\"Languages\"]) if pd.notnull(elem)])"
   ]
  },
  {
   "cell_type": "code",
   "execution_count": 11,
   "metadata": {},
   "outputs": [],
   "source": [
    "paragraph = [elem for elem in set(df[\"Languages\"]) if pd.notnull(elem)]\n",
    "uniques = []\n",
    "for sentence in paragraph:\n",
    "    for word in sentence.split(\",\"):\n",
    "        if word not in uniques:\n",
    "            uniques.append(word)"
   ]
  },
  {
   "cell_type": "code",
   "execution_count": 13,
   "metadata": {},
   "outputs": [
    {
     "data": {
      "text/plain": [
       "7587"
      ]
     },
     "execution_count": 13,
     "metadata": {},
     "output_type": "execute_result"
    }
   ],
   "source": [
    "len(uniques)"
   ]
  },
  {
   "cell_type": "code",
   "execution_count": 14,
   "metadata": {},
   "outputs": [
    {
     "data": {
      "text/plain": [
       "37"
      ]
     },
     "execution_count": 14,
     "metadata": {},
     "output_type": "execute_result"
    }
   ],
   "source": [
    "sum([len(elem.split(\",\")) for elem in set(df[\"Languages\"]) if pd.notnull(elem)]) - len(uniques)"
   ]
  },
  {
   "cell_type": "code",
   "execution_count": 22,
   "metadata": {},
   "outputs": [
    {
     "data": {
      "text/plain": [
       "{'aln': 1,\n",
       " 'apc': 1,\n",
       " 'arb': 2,\n",
       " 'bgx': 1,\n",
       " 'bos': 2,\n",
       " 'deu': 1,\n",
       " 'dnj': 3,\n",
       " 'eng': 2,\n",
       " 'fra': 3,\n",
       " 'fsl': 1,\n",
       " 'gcf': 1,\n",
       " 'gsw': 1,\n",
       " 'hrv': 2,\n",
       " 'hye': 1,\n",
       " 'ita': 1,\n",
       " 'kor': 1,\n",
       " 'kvk': 1,\n",
       " 'lij': 1,\n",
       " 'men': 1,\n",
       " 'oci': 1,\n",
       " 'rom': 1,\n",
       " 'sgg': 1,\n",
       " 'som': 1,\n",
       " 'srp': 2,\n",
       " 'tur': 1,\n",
       " 'wae': 1,\n",
       " 'ysl': 1,\n",
       " 'yue': 1}"
      ]
     },
     "execution_count": 22,
     "metadata": {},
     "output_type": "execute_result"
    }
   ],
   "source": [
    "paragraph = [elem for elem in list(df[\"Languages\"]) if pd.notnull(elem)]\n",
    "uniques = []\n",
    "words = {}\n",
    "for sentence in paragraph:\n",
    "    for word in sentence.split(\",\"):\n",
    "        if word not in uniques:\n",
    "            uniques.append(word)\n",
    "        else:\n",
    "            if word not in words:\n",
    "                words[word] = 1\n",
    "            else:\n",
    "                words[word] += 1\n",
    "words"
   ]
  },
  {
   "cell_type": "code",
   "execution_count": 46,
   "metadata": {},
   "outputs": [
    {
     "data": {
      "text/plain": [
       "<matplotlib.axes._subplots.AxesSubplot at 0x117f2c978>"
      ]
     },
     "execution_count": 46,
     "metadata": {},
     "output_type": "execute_result"
    },
    {
     "data": {
      "image/png": "[encoded data removed]",
      "text/plain": [
       "<matplotlib.figure.Figure at 0x117e3ef28>"
      ]
     },
     "metadata": {},
     "output_type": "display_data"
    }
   ],
   "source": [
    "thing = pd.DataFrame()\n",
    "lang = list(words.keys())\n",
    "freq = list(words.values())\n",
    "for ind, lang in enumerate(lang):\n",
    "    thing = thing.append({\"lang\": lang, \"freq\": freq[ind]}, ignore_index=True)\n",
    "sns.barplot(x=\"lang\", y=\"freq\", data=thing)"
   ]
  },
  {
   "cell_type": "code",
   "execution_count": 18,
   "metadata": {},
   "outputs": [
    {
     "name": "stdout",
     "output_type": "stream",
     "text": [
      "63 Guinea dnj\n",
      "64 Guinea-Bissau dnj\n",
      "89 Martinique gcf\n",
      "95 Monaco fra\n",
      "122 Somaliland arb\n",
      "122 Somaliland som\n",
      "143 South Korea kvk\n",
      "143 South Korea kor\n",
      "144 Croatia hrv\n",
      "159 Serbia srp\n",
      "163 Bosnia and Herzegovina bos\n",
      "178 Germany deu\n",
      "186 China yue\n",
      "194 France fra\n",
      "194 France fsl\n",
      "194 France oci\n",
      "197 Switzerland gsw\n",
      "197 Switzerland sgg\n",
      "197 Switzerland wae\n",
      "198 Kosovo aln\n",
      "198 Kosovo bgx\n",
      "198 Kosovo ysl\n",
      "198 Kosovo srp\n",
      "198 Kosovo bos\n",
      "198 Kosovo hrv\n",
      "198 Kosovo tur\n",
      "199 United Kingdom eng\n",
      "215 Liberia dnj\n",
      "215 Liberia men\n",
      "227 Romania rom\n",
      "229 Italy ita\n",
      "229 Italy lij\n",
      "230 Lebanon apc\n",
      "230 Lebanon arb\n",
      "230 Lebanon hye\n",
      "230 Lebanon eng\n",
      "230 Lebanon fra\n"
     ]
    }
   ],
   "source": [
    "uniques = []\n",
    "for index in df.index:\n",
    "    if pd.notnull(df.loc[index][\"Languages\"]):\n",
    "        for word in df.loc[index][\"Languages\"].split(\",\"):\n",
    "            if word not in uniques:\n",
    "                uniques.append(word)\n",
    "            else:\n",
    "                print(index, df.loc[index][\"Polities\"], word)"
   ]
  },
  {
   "cell_type": "code",
   "execution_count": null,
   "metadata": {},
   "outputs": [],
   "source": []
  }
 ],
 "metadata": {
  "kernelspec": {
   "display_name": "Python 3",
   "language": "python",
   "name": "python3"
  },
  "language_info": {
   "codemirror_mode": {
    "name": "ipython",
    "version": 3
   },
   "file_extension": ".py",
   "mimetype": "text/x-python",
   "name": "python",
   "nbconvert_exporter": "python",
   "pygments_lexer": "ipython3",
   "version": "3.6.4"
  }
 },
 "nbformat": 4,
 "nbformat_minor": 2
}
